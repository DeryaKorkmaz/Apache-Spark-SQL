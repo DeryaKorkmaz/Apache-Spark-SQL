{
 "cells": [
  {
   "cell_type": "code",
   "execution_count": 6,
   "id": "d0580a57-975e-4b86-ad7e-d142589bdf40",
   "metadata": {},
   "outputs": [],
   "source": [
    "import pyspark"
   ]
  },
  {
   "cell_type": "code",
   "execution_count": 13,
   "id": "a1bb4d0d-67a6-4e07-b021-0f4ba6c65fe8",
   "metadata": {},
   "outputs": [],
   "source": [
    "from pyspark.sql import SparkSession"
   ]
  },
  {
   "cell_type": "code",
   "execution_count": 15,
   "id": "d501b998-78ae-4f8e-ab9c-ad093ff0c8dd",
   "metadata": {},
   "outputs": [],
   "source": [
    "from pyspark.sql import Row"
   ]
  },
  {
   "cell_type": "code",
   "execution_count": 19,
   "id": "76d9d199-cb7c-4dca-bb4d-041a61d05c55",
   "metadata": {},
   "outputs": [],
   "source": [
    "spark = SparkSession.builder.appName('SparkSQL').getOrCreate()  #CREATE RDD"
   ]
  },
  {
   "cell_type": "code",
   "execution_count": 84,
   "id": "074a146d-900d-4888-9111-c2944cf44a6d",
   "metadata": {},
   "outputs": [],
   "source": [
    "rows = spark.sparkContext.textFile('ratings.csv')"
   ]
  },
  {
   "cell_type": "code",
   "execution_count": 129,
   "id": "13e99b0a-69ee-43e8-b1fe-51c64393fc60",
   "metadata": {},
   "outputs": [],
   "source": [
    "baslik = rows.first()"
   ]
  },
  {
   "cell_type": "code",
   "execution_count": 130,
   "id": "59d40060-0bb0-4903-afd5-7c4260dd743a",
   "metadata": {},
   "outputs": [
    {
     "data": {
      "text/plain": [
       "'book_id,user_id,rating'"
      ]
     },
     "execution_count": 130,
     "metadata": {},
     "output_type": "execute_result"
    }
   ],
   "source": [
    "baslik"
   ]
  },
  {
   "cell_type": "code",
   "execution_count": 131,
   "id": "db433f8c-4429-4207-854d-b788dc58f17c",
   "metadata": {},
   "outputs": [],
   "source": [
    "rows = rows.filter(lambda x: x!= baslik)"
   ]
  },
  {
   "cell_type": "code",
   "execution_count": 132,
   "id": "8f8758d4-4642-4ca3-aedd-d1b9cb986c9c",
   "metadata": {},
   "outputs": [
    {
     "data": {
      "text/plain": [
       "PythonRDD[248] at RDD at PythonRDD.scala:53"
      ]
     },
     "execution_count": 132,
     "metadata": {},
     "output_type": "execute_result"
    }
   ],
   "source": [
    "rows"
   ]
  },
  {
   "cell_type": "code",
   "execution_count": 133,
   "id": "ef24a81d-2faa-438b-b450-55e7be6a5f58",
   "metadata": {},
   "outputs": [],
   "source": [
    "def CSV_ROW(satir):\n",
    "    item = satir.split(',')\n",
    "    return Row(kitap_id=int(item[0]), kullanici_id=int(item[1]), derece=int(item[2]))"
   ]
  },
  {
   "cell_type": "code",
   "execution_count": 134,
   "id": "30284d59-dc85-46c0-89a0-2b3a9cc49d03",
   "metadata": {},
   "outputs": [],
   "source": [
    "books = rows.map(CSV_ROW)"
   ]
  },
  {
   "cell_type": "code",
   "execution_count": 135,
   "id": "b8398d8c-0a0a-4b96-964c-a3ff5ec9a6df",
   "metadata": {},
   "outputs": [
    {
     "data": {
      "text/plain": [
       "PythonRDD[249] at RDD at PythonRDD.scala:53"
      ]
     },
     "execution_count": 135,
     "metadata": {},
     "output_type": "execute_result"
    }
   ],
   "source": [
    "books"
   ]
  },
  {
   "cell_type": "code",
   "execution_count": 136,
   "id": "ff2594f1-1322-4583-8beb-94824752680a",
   "metadata": {},
   "outputs": [],
   "source": [
    "df = spark.createDataFrame(books).cache()\n"
   ]
  },
  {
   "cell_type": "code",
   "execution_count": 137,
   "id": "c591f0ca-2e2f-4371-8669-9885a8808764",
   "metadata": {},
   "outputs": [],
   "source": [
    "df.createOrReplaceTempView('kitaplar')\n"
   ]
  },
  {
   "cell_type": "code",
   "execution_count": 138,
   "id": "0263c62f-003b-4ee5-8b95-3fed5413f3aa",
   "metadata": {},
   "outputs": [
    {
     "name": "stderr",
     "output_type": "stream",
     "text": [
      "[Stage 92:>                                                         (0 + 2) / 2]\r"
     ]
    },
    {
     "name": "stdout",
     "output_type": "stream",
     "text": [
      "+--------+------------+------+\n",
      "|kitap_id|kullanici_id|derece|\n",
      "+--------+------------+------+\n",
      "|       1|         588|     5|\n",
      "|       1|        1169|     4|\n",
      "|       1|        1185|     4|\n",
      "|       1|        2077|     4|\n",
      "|       1|        2487|     4|\n",
      "|       1|        2900|     5|\n",
      "|       1|        3662|     4|\n",
      "|       1|        3922|     5|\n",
      "|       1|        5379|     5|\n",
      "|       1|        5461|     3|\n",
      "|       1|        5885|     5|\n",
      "|       1|        6630|     5|\n",
      "|       1|        7563|     3|\n",
      "|       1|        9246|     1|\n",
      "|       1|       10140|     4|\n",
      "|       1|       10146|     5|\n",
      "|       1|       10246|     4|\n",
      "|       1|       10335|     4|\n",
      "|       1|       10610|     5|\n",
      "|       1|       10944|     5|\n",
      "|       1|       11854|     4|\n",
      "|       1|       11927|     4|\n",
      "|       1|       12471|     5|\n",
      "|       1|       13282|     5|\n",
      "|       1|       13544|     5|\n",
      "|       1|       15494|     5|\n",
      "|       1|       16377|     4|\n",
      "|       1|       16913|     5|\n",
      "|       1|       17434|     5|\n",
      "|       1|       17663|     5|\n",
      "+--------+------------+------+\n",
      "only showing top 30 rows\n",
      "\n"
     ]
    },
    {
     "name": "stderr",
     "output_type": "stream",
     "text": [
      "                                                                                \r"
     ]
    }
   ],
   "source": [
    "df.show(30)"
   ]
  },
  {
   "cell_type": "code",
   "execution_count": 139,
   "id": "486e9e89-1043-4d83-a991-0b2c965e8754",
   "metadata": {},
   "outputs": [],
   "source": [
    "df2 = df.groupby('kitap_id').count().orderBy('count', ascending=False)"
   ]
  },
  {
   "cell_type": "code",
   "execution_count": 140,
   "id": "ad899936-5e96-4fb0-8801-21d53b8ad41b",
   "metadata": {},
   "outputs": [
    {
     "data": {
      "text/plain": [
       "2545"
      ]
     },
     "execution_count": 140,
     "metadata": {},
     "output_type": "execute_result"
    }
   ],
   "source": [
    "df2.filter(df2['count'] != 100).count()"
   ]
  },
  {
   "cell_type": "code",
   "execution_count": 141,
   "id": "a574a616-22d8-4ad6-b4e8-273c3e128499",
   "metadata": {},
   "outputs": [
    {
     "data": {
      "text/plain": [
       "981754"
      ]
     },
     "execution_count": 141,
     "metadata": {},
     "output_type": "execute_result"
    }
   ],
   "source": [
    "df.count()"
   ]
  },
  {
   "cell_type": "code",
   "execution_count": 142,
   "id": "a6d502ab-5cef-4899-8c18-09d897194038",
   "metadata": {},
   "outputs": [
    {
     "name": "stdout",
     "output_type": "stream",
     "text": [
      "+--------+-----+\n",
      "|kitap_id|count|\n",
      "+--------+-----+\n",
      "|    2244|   98|\n",
      "|    3628|   98|\n",
      "|    1308|   97|\n",
      "|    4483|   97|\n",
      "|    1904|   97|\n",
      "|    6642|   97|\n",
      "|    9566|   97|\n",
      "|    3660|   96|\n",
      "|    3275|   96|\n",
      "|    3395|   96|\n",
      "|    5580|   96|\n",
      "|    6527|   96|\n",
      "|    6920|   96|\n",
      "|    5207|   96|\n",
      "|    6361|   95|\n",
      "|    9141|   95|\n",
      "|    7883|   95|\n",
      "|    3885|   95|\n",
      "|    1788|   95|\n",
      "|    1380|   95|\n",
      "+--------+-----+\n",
      "only showing top 20 rows\n",
      "\n"
     ]
    }
   ],
   "source": [
    "spark.sql('SELECT * from kitaplar WHERE derece>=4').groupby('kitap_id').count().orderBy('count', ascending=False).show()"
   ]
  },
  {
   "cell_type": "code",
   "execution_count": 143,
   "id": "9b49fcbc-8075-4d15-aa2d-81a25443850d",
   "metadata": {},
   "outputs": [
    {
     "name": "stdout",
     "output_type": "stream",
     "text": [
      "+--------+-----+\n",
      "|kitap_id|count|\n",
      "+--------+-----+\n",
      "|    1793|   70|\n",
      "|    1822|   55|\n",
      "|    4045|   52|\n",
      "|    1409|   51|\n",
      "|    3550|   51|\n",
      "|    4283|   51|\n",
      "|    4009|   48|\n",
      "|    4282|   48|\n",
      "|      96|   47|\n",
      "|    4399|   47|\n",
      "|    8874|   46|\n",
      "|      34|   45|\n",
      "|    8166|   45|\n",
      "|    8466|   45|\n",
      "|    7450|   45|\n",
      "|     303|   44|\n",
      "|    9021|   43|\n",
      "|    2749|   41|\n",
      "|     875|   40|\n",
      "|    9523|   40|\n",
      "+--------+-----+\n",
      "only showing top 20 rows\n",
      "\n"
     ]
    }
   ],
   "source": [
    "spark.sql('SELECT * from kitaplar where derece <=2').groupby('kitap_id').count().orderBy('count', ascending=False).show()"
   ]
  },
  {
   "cell_type": "code",
   "execution_count": 144,
   "id": "d80e1546-d140-47ac-a61b-dbd637c353b5",
   "metadata": {},
   "outputs": [
    {
     "name": "stdout",
     "output_type": "stream",
     "text": [
      "+--------+-----------+\n",
      "|kitap_id|sum(derece)|\n",
      "+--------+-----------+\n",
      "|    6920|        478|\n",
      "|    5207|        478|\n",
      "|    3275|        477|\n",
      "|    6361|        477|\n",
      "|    4483|        475|\n",
      "|    5580|        475|\n",
      "|    6590|        475|\n",
      "|    1308|        474|\n",
      "|    3628|        473|\n",
      "|    8978|        473|\n",
      "|    9566|        473|\n",
      "|    3753|        472|\n",
      "|    8109|        471|\n",
      "|    1788|        470|\n",
      "|    9141|        469|\n",
      "|    2244|        468|\n",
      "|     862|        468|\n",
      "|    4868|        467|\n",
      "|    4708|        466|\n",
      "|    7254|        466|\n",
      "+--------+-----------+\n",
      "only showing top 20 rows\n",
      "\n"
     ]
    }
   ],
   "source": [
    "df.groupby('kitap_id').sum('derece').orderBy('sum(derece)', ascending=False).show()"
   ]
  },
  {
   "cell_type": "code",
   "execution_count": null,
   "id": "2c6df436-a14a-4d46-a90f-9b69207f6eb6",
   "metadata": {},
   "outputs": [],
   "source": []
  }
 ],
 "metadata": {
  "kernelspec": {
   "display_name": "Python 3 (ipykernel)",
   "language": "python",
   "name": "python3"
  },
  "language_info": {
   "codemirror_mode": {
    "name": "ipython",
    "version": 3
   },
   "file_extension": ".py",
   "mimetype": "text/x-python",
   "name": "python",
   "nbconvert_exporter": "python",
   "pygments_lexer": "ipython3",
   "version": "3.8.10"
  }
 },
 "nbformat": 4,
 "nbformat_minor": 5
}
